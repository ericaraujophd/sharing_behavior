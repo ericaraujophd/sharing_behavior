{
 "cells": [
  {
   "cell_type": "code",
   "execution_count": 1,
   "metadata": {},
   "outputs": [],
   "source": [
    "# Standard libraries\n",
    "import numpy as np\n",
    "import pandas as pd\n",
    "import matplotlib.pyplot as plt\n",
    "from random import random\n",
    "from pprint import pprint\n",
    "import _pickle as pickle\n",
    "\n",
    "import time"
   ]
  },
  {
   "cell_type": "code",
   "execution_count": 2,
   "metadata": {},
   "outputs": [],
   "source": [
    "# My libraries\n",
    "import sim_ann as sa\n",
    "import model"
   ]
  },
  {
   "cell_type": "code",
   "execution_count": 3,
   "metadata": {},
   "outputs": [],
   "source": [
    "%load_ext autoreload\n",
    "%autoreload 2\n",
    "%matplotlib inline"
   ]
  },
  {
   "cell_type": "markdown",
   "metadata": {},
   "source": [
    "## Loading simulated annealing results"
   ]
  },
  {
   "cell_type": "code",
   "execution_count": 8,
   "metadata": {},
   "outputs": [],
   "source": [
    "with open ('pickle/parameters.txt', 'rb') as fp:\n",
    "    parameters = pickle.load(fp)\n",
    "\n",
    "with open ('pickle/cost_hist.txt', 'rb') as fp:\n",
    "    cost_hist = pickle.load(fp)\n",
    "\n",
    "with open ('pickle/parameters_hist.txt', 'rb') as fp:\n",
    "    parameters_hist = pickle.load(fp)"
   ]
  },
  {
   "cell_type": "markdown",
   "metadata": {},
   "source": [
    "## Process results"
   ]
  },
  {
   "cell_type": "code",
   "execution_count": 6,
   "metadata": {},
   "outputs": [],
   "source": [
    "mood = 0.5\n",
    "\n",
    "# Get the traits for the agents\n",
    "validation_f = 'validation/'\n",
    "\n",
    "agent1 = pd.read_csv(validation_f+'agent_1.csv')\n",
    "agent2 = pd.read_csv(validation_f+'agent_2.csv')\n",
    "agent3 = pd.read_csv(validation_f+'agent_3.csv')\n",
    "\n",
    "a1_dict = agent1.to_dict()\n",
    "a2_dict = agent2.to_dict()\n",
    "a3_dict = agent3.to_dict()\n",
    "\n",
    "#[pt_con, nf_ko, nf_ent, nf_is, nf_si, nf_se, mood]\n",
    "a1_traits = [a1_dict['nf_ko'][0], a1_dict['nf_ent'][0], a1_dict['nf_is'][0], \n",
    "             a1_dict['nf_si'][0], a1_dict['nf_se'][0], a1_dict['pt_con'][0], mood]\n",
    "a2_traits = [a2_dict['nf_ko'][0], a2_dict['nf_ent'][0], a2_dict['nf_is'][0], \n",
    "             a2_dict['nf_si'][0], a2_dict['nf_se'][0], a2_dict['pt_con'][0], mood]\n",
    "a3_traits = [a3_dict['nf_ko'][0], a3_dict['nf_ent'][0], a3_dict['nf_is'][0], \n",
    "             a3_dict['nf_si'][0], a3_dict['nf_se'][0], a3_dict['pt_con'][0], mood]\n",
    "\n",
    "\n",
    "# Get validation data set\n",
    "data_a1 = pd.read_csv(validation_f+'validation_agent_1.csv')\n",
    "data_a2 = pd.read_csv(validation_f+'validation_agent_2.csv')\n",
    "data_a3 = pd.read_csv(validation_f+'validation_agent_3.csv')\n",
    "\n",
    "messages1 = data_a1[['msg_cat_per', 'msg_cat_ent', 'msg_cat_new', 'msg_cat_edu', \n",
    "                    'msg_cat_con', 'msg_rel', 'msg_qua', 'msg_sen', \n",
    "                    'msg_sal', 'msg_med', 'msg_com', 'msg_que']]\n",
    "messages2 = data_a2[['msg_cat_per', 'msg_cat_ent', 'msg_cat_new', 'msg_cat_edu', \n",
    "                    'msg_cat_con', 'msg_rel', 'msg_qua', 'msg_sen', \n",
    "                    'msg_sal', 'msg_med', 'msg_com', 'msg_que']]\n",
    "messages3 = data_a3[['msg_cat_per', 'msg_cat_ent', 'msg_cat_new', 'msg_cat_edu', \n",
    "                    'msg_cat_con', 'msg_rel', 'msg_qua', 'msg_sen', \n",
    "                    'msg_sal', 'msg_med', 'msg_com', 'msg_que']]\n",
    "\n",
    "reactions1 = data_a1[['mood', 'like', 'comment', 'share']]\n",
    "reactions2 = data_a2[['mood', 'like', 'comment', 'share']]\n",
    "reactions3 = data_a3[['mood', 'like', 'comment', 'share']]"
   ]
  },
  {
   "cell_type": "markdown",
   "metadata": {},
   "source": [
    "# mathematical Analysis Agent 1"
   ]
  },
  {
   "cell_type": "code",
   "execution_count": 33,
   "metadata": {},
   "outputs": [],
   "source": [
    "mathematical_analysis_sequence = pd.read_csv('data/mathematical_analysis_sequence.csv')"
   ]
  },
  {
   "cell_type": "code",
   "execution_count": 34,
   "metadata": {},
   "outputs": [
    {
     "data": {
      "text/html": [
       "<div>\n",
       "<style scoped>\n",
       "    .dataframe tbody tr th:only-of-type {\n",
       "        vertical-align: middle;\n",
       "    }\n",
       "\n",
       "    .dataframe tbody tr th {\n",
       "        vertical-align: top;\n",
       "    }\n",
       "\n",
       "    .dataframe thead th {\n",
       "        text-align: right;\n",
       "    }\n",
       "</style>\n",
       "<table border=\"1\" class=\"dataframe\">\n",
       "  <thead>\n",
       "    <tr style=\"text-align: right;\">\n",
       "      <th></th>\n",
       "      <th>cat_per</th>\n",
       "      <th>cat_ent</th>\n",
       "      <th>cat_new</th>\n",
       "      <th>cat_edu</th>\n",
       "      <th>cat_con</th>\n",
       "      <th>msg_rel</th>\n",
       "      <th>msg_qua</th>\n",
       "      <th>msg_sen</th>\n",
       "      <th>msg_sal</th>\n",
       "      <th>msg_med</th>\n",
       "      <th>msg_com</th>\n",
       "      <th>msg_que</th>\n",
       "    </tr>\n",
       "  </thead>\n",
       "  <tbody>\n",
       "    <tr>\n",
       "      <th>0</th>\n",
       "      <td>1.0</td>\n",
       "      <td>0.0</td>\n",
       "      <td>0.0</td>\n",
       "      <td>0.0</td>\n",
       "      <td>0.0</td>\n",
       "      <td>0.346662</td>\n",
       "      <td>0.245419</td>\n",
       "      <td>0.371825</td>\n",
       "      <td>0.319526</td>\n",
       "      <td>0.5</td>\n",
       "      <td>0.114065</td>\n",
       "      <td>0.0</td>\n",
       "    </tr>\n",
       "    <tr>\n",
       "      <th>1</th>\n",
       "      <td>1.0</td>\n",
       "      <td>0.0</td>\n",
       "      <td>0.0</td>\n",
       "      <td>0.0</td>\n",
       "      <td>0.0</td>\n",
       "      <td>0.346662</td>\n",
       "      <td>0.245419</td>\n",
       "      <td>0.371825</td>\n",
       "      <td>0.319526</td>\n",
       "      <td>0.5</td>\n",
       "      <td>0.114065</td>\n",
       "      <td>0.0</td>\n",
       "    </tr>\n",
       "    <tr>\n",
       "      <th>2</th>\n",
       "      <td>1.0</td>\n",
       "      <td>0.0</td>\n",
       "      <td>0.0</td>\n",
       "      <td>0.0</td>\n",
       "      <td>0.0</td>\n",
       "      <td>0.346662</td>\n",
       "      <td>0.245419</td>\n",
       "      <td>0.371825</td>\n",
       "      <td>0.319526</td>\n",
       "      <td>0.5</td>\n",
       "      <td>0.114065</td>\n",
       "      <td>0.0</td>\n",
       "    </tr>\n",
       "    <tr>\n",
       "      <th>3</th>\n",
       "      <td>1.0</td>\n",
       "      <td>0.0</td>\n",
       "      <td>0.0</td>\n",
       "      <td>0.0</td>\n",
       "      <td>0.0</td>\n",
       "      <td>0.346662</td>\n",
       "      <td>0.245419</td>\n",
       "      <td>0.371825</td>\n",
       "      <td>0.319526</td>\n",
       "      <td>0.5</td>\n",
       "      <td>0.114065</td>\n",
       "      <td>0.0</td>\n",
       "    </tr>\n",
       "    <tr>\n",
       "      <th>4</th>\n",
       "      <td>1.0</td>\n",
       "      <td>0.0</td>\n",
       "      <td>0.0</td>\n",
       "      <td>0.0</td>\n",
       "      <td>0.0</td>\n",
       "      <td>0.346662</td>\n",
       "      <td>0.245419</td>\n",
       "      <td>0.371825</td>\n",
       "      <td>0.319526</td>\n",
       "      <td>0.5</td>\n",
       "      <td>0.114065</td>\n",
       "      <td>0.0</td>\n",
       "    </tr>\n",
       "  </tbody>\n",
       "</table>\n",
       "</div>"
      ],
      "text/plain": [
       "   cat_per  cat_ent  cat_new  cat_edu  cat_con   msg_rel   msg_qua   msg_sen  \\\n",
       "0      1.0      0.0      0.0      0.0      0.0  0.346662  0.245419  0.371825   \n",
       "1      1.0      0.0      0.0      0.0      0.0  0.346662  0.245419  0.371825   \n",
       "2      1.0      0.0      0.0      0.0      0.0  0.346662  0.245419  0.371825   \n",
       "3      1.0      0.0      0.0      0.0      0.0  0.346662  0.245419  0.371825   \n",
       "4      1.0      0.0      0.0      0.0      0.0  0.346662  0.245419  0.371825   \n",
       "\n",
       "    msg_sal  msg_med   msg_com  msg_que  \n",
       "0  0.319526      0.5  0.114065      0.0  \n",
       "1  0.319526      0.5  0.114065      0.0  \n",
       "2  0.319526      0.5  0.114065      0.0  \n",
       "3  0.319526      0.5  0.114065      0.0  \n",
       "4  0.319526      0.5  0.114065      0.0  "
      ]
     },
     "execution_count": 34,
     "metadata": {},
     "output_type": "execute_result"
    }
   ],
   "source": [
    "mathematical_analysis_sequence.head(5)"
   ]
  },
  {
   "cell_type": "code",
   "execution_count": 35,
   "metadata": {},
   "outputs": [],
   "source": [
    "inputsDF, parameters = model.run_message_sequence(mathematical_analysis_sequence.values, a1_traits,parameters, 'nb1')"
   ]
  },
  {
   "cell_type": "markdown",
   "metadata": {},
   "source": [
    "## Inputs\n",
    "\n",
    "### Message Categories"
   ]
  },
  {
   "cell_type": "code",
   "execution_count": 36,
   "metadata": {},
   "outputs": [
    {
     "data": {
      "image/png": "[encoded data removed]",
      "text/plain": [
       "<matplotlib.figure.Figure at 0x186cc7f0>"
      ]
     },
     "metadata": {},
     "output_type": "display_data"
    }
   ],
   "source": [
    "inputsDF[['msg_cat_per', 'msg_cat_ent', 'msg_cat_new', 'msg_cat_edu', 'msg_cat_con']].plot()\n",
    "plt.ylabel('State')\n",
    "plt.xlabel('Time step')\n",
    "plt.rcParams[\"figure.figsize\"] = (15,8)"
   ]
  },
  {
   "cell_type": "markdown",
   "metadata": {},
   "source": [
    "### Message characteristics"
   ]
  },
  {
   "cell_type": "code",
   "execution_count": 37,
   "metadata": {},
   "outputs": [
    {
     "data": {
      "image/png": "[encoded data removed]",
      "text/plain": [
       "<matplotlib.figure.Figure at 0x18517bb0>"
      ]
     },
     "metadata": {},
     "output_type": "display_data"
    }
   ],
   "source": [
    "inputsDF[['msg_rel', 'msg_qua', 'msg_sen', 'msg_sal', 'msg_med', 'msg_com', 'msg_que']].plot()\n",
    "plt.ylabel('State')\n",
    "plt.xlabel('Time step')\n",
    "plt.rcParams[\"figure.figsize\"] = (15,8)"
   ]
  },
  {
   "cell_type": "markdown",
   "metadata": {},
   "source": [
    "### Sensory states"
   ]
  },
  {
   "cell_type": "code",
   "execution_count": 38,
   "metadata": {},
   "outputs": [
    {
     "data": {
      "image/png": "[encoded data removed]",
      "text/plain": [
       "<matplotlib.figure.Figure at 0x17d2f4f0>"
      ]
     },
     "metadata": {},
     "output_type": "display_data"
    }
   ],
   "source": [
    "inputsDF[['srs_cat_per', 'srs_cat_ent', 'srs_cat_new', 'srs_cat_edu', 'srs_cat_con']].plot()\n",
    "plt.ylabel('State')\n",
    "plt.xlabel('Time step')\n",
    "plt.rcParams[\"figure.figsize\"] = (15,8)"
   ]
  },
  {
   "cell_type": "markdown",
   "metadata": {},
   "source": [
    "### Arousal, attention"
   ]
  },
  {
   "cell_type": "code",
   "execution_count": 39,
   "metadata": {},
   "outputs": [
    {
     "data": {
      "image/png": "[encoded data removed]",
      "text/plain": [
       "<matplotlib.figure.Figure at 0x1b17a110>"
      ]
     },
     "metadata": {},
     "output_type": "display_data"
    }
   ],
   "source": [
    "inputsDF[['arousal', 'attention_1', 'attention_2']].plot()\n",
    "plt.ylabel('State')\n",
    "plt.xlabel('Time step')\n",
    "plt.rcParams[\"figure.figsize\"] = (15,8)"
   ]
  },
  {
   "cell_type": "markdown",
   "metadata": {},
   "source": [
    "### FFs"
   ]
  },
  {
   "cell_type": "code",
   "execution_count": 40,
   "metadata": {},
   "outputs": [
    {
     "data": {
      "image/png": "[encoded data removed]",
      "text/plain": [
       "<matplotlib.figure.Figure at 0x18aedc50>"
      ]
     },
     "metadata": {},
     "output_type": "display_data"
    }
   ],
   "source": [
    "inputsDF[['ff_ko', 'ff_ent', 'ff_is', 'ff_si', 'ff_se']].plot()\n",
    "plt.ylabel('State')\n",
    "plt.xlabel('Time step')\n",
    "plt.rcParams[\"figure.figsize\"] = (15,8)"
   ]
  },
  {
   "cell_type": "markdown",
   "metadata": {},
   "source": [
    "### Satisfaction, dissatisfaction"
   ]
  },
  {
   "cell_type": "code",
   "execution_count": 41,
   "metadata": {},
   "outputs": [
    {
     "data": {
      "image/png": "[encoded data removed]",
      "text/plain": [
       "<matplotlib.figure.Figure at 0x1833e4d0>"
      ]
     },
     "metadata": {},
     "output_type": "display_data"
    }
   ],
   "source": [
    "inputsDF[['satisfaction', 'dissatisfaction', 'ff_se']].plot()\n",
    "plt.ylabel('State')\n",
    "plt.xlabel('Time step')\n",
    "plt.rcParams[\"figure.figsize\"] = (15,8)"
   ]
  },
  {
   "cell_type": "markdown",
   "metadata": {},
   "source": [
    "### preps and ssr's"
   ]
  },
  {
   "cell_type": "code",
   "execution_count": 42,
   "metadata": {},
   "outputs": [
    {
     "data": {
      "image/png": "[encoded data removed]",
      "text/plain": [
       "<matplotlib.figure.Figure at 0x180a21b0>"
      ]
     },
     "metadata": {},
     "output_type": "display_data"
    }
   ],
   "source": [
    "inputsDF[['prep_like', 'ssr_pe_l', 'prep_share', 'ssr_pe_s', 'prep_comm', 'ssr_pe_c']].plot()\n",
    "plt.ylabel('State')\n",
    "plt.xlabel('Time step')\n",
    "plt.rcParams[\"figure.figsize\"] = (15,8)"
   ]
  },
  {
   "cell_type": "markdown",
   "metadata": {},
   "source": [
    "### Outputs"
   ]
  },
  {
   "cell_type": "code",
   "execution_count": 43,
   "metadata": {},
   "outputs": [
    {
     "data": {
      "image/png": "[encoded data removed]",
      "text/plain": [
       "<matplotlib.figure.Figure at 0x15acb270>"
      ]
     },
     "metadata": {},
     "output_type": "display_data"
    }
   ],
   "source": [
    "inputsDF[['like', 'share', 'comment']].plot()\n",
    "plt.ylabel('State')\n",
    "plt.xlabel('Time step')\n",
    "plt.rcParams[\"figure.figsize\"] = (15,8)"
   ]
  },
  {
   "cell_type": "markdown",
   "metadata": {},
   "source": [
    "### Expected reactions"
   ]
  },
  {
   "cell_type": "markdown",
   "metadata": {},
   "source": [
    "# Agent 2"
   ]
  },
  {
   "cell_type": "code",
   "execution_count": null,
   "metadata": {},
   "outputs": [],
   "source": [
    "inputsDF, parameters = model.run_message_sequence(messages2.values, a2_traits,parameters, 'nb3')"
   ]
  },
  {
   "cell_type": "code",
   "execution_count": null,
   "metadata": {},
   "outputs": [],
   "source": [
    "parameters"
   ]
  },
  {
   "cell_type": "markdown",
   "metadata": {},
   "source": [
    "## Inputs\n",
    "\n",
    "### Message Categories"
   ]
  },
  {
   "cell_type": "code",
   "execution_count": null,
   "metadata": {},
   "outputs": [],
   "source": [
    "inputsDF[['msg_cat_per', 'msg_cat_ent', 'msg_cat_new', 'msg_cat_edu', 'msg_cat_con']].plot()\n",
    "plt.ylabel('State')\n",
    "plt.xlabel('Time step')\n",
    "plt.rcParams[\"figure.figsize\"] = (15,8)"
   ]
  },
  {
   "cell_type": "markdown",
   "metadata": {},
   "source": [
    "### Message characteristics"
   ]
  },
  {
   "cell_type": "code",
   "execution_count": null,
   "metadata": {},
   "outputs": [],
   "source": [
    "inputsDF[['msg_rel', 'msg_qua', 'msg_sen', 'msg_sal', 'msg_med', 'msg_com', 'msg_que']].plot()\n",
    "plt.ylabel('State')\n",
    "plt.xlabel('Time step')\n",
    "plt.rcParams[\"figure.figsize\"] = (15,8)"
   ]
  },
  {
   "cell_type": "markdown",
   "metadata": {},
   "source": [
    "### Sensory states"
   ]
  },
  {
   "cell_type": "code",
   "execution_count": null,
   "metadata": {},
   "outputs": [],
   "source": [
    "inputsDF[['srs_cat_per', 'srs_cat_ent', 'srs_cat_new', 'srs_cat_edu', 'srs_cat_con']].plot()\n",
    "plt.ylabel('State')\n",
    "plt.xlabel('Time step')\n",
    "plt.rcParams[\"figure.figsize\"] = (15,8)"
   ]
  },
  {
   "cell_type": "markdown",
   "metadata": {},
   "source": [
    "### Arousal, attention"
   ]
  },
  {
   "cell_type": "code",
   "execution_count": null,
   "metadata": {},
   "outputs": [],
   "source": [
    "inputsDF[['arousal', 'attention_1', 'attention_2']].plot()\n",
    "plt.ylabel('State')\n",
    "plt.xlabel('Time step')\n",
    "plt.rcParams[\"figure.figsize\"] = (15,8)"
   ]
  },
  {
   "cell_type": "markdown",
   "metadata": {},
   "source": [
    "### FFs"
   ]
  },
  {
   "cell_type": "code",
   "execution_count": null,
   "metadata": {},
   "outputs": [],
   "source": [
    "inputsDF[['ff_ko', 'ff_ent', 'ff_is', 'ff_si', 'ff_se']].plot()\n",
    "plt.ylabel('State')\n",
    "plt.xlabel('Time step')\n",
    "plt.rcParams[\"figure.figsize\"] = (15,8)"
   ]
  },
  {
   "cell_type": "markdown",
   "metadata": {},
   "source": [
    "### Satisfaction, dissatisfaction"
   ]
  },
  {
   "cell_type": "code",
   "execution_count": null,
   "metadata": {},
   "outputs": [],
   "source": [
    "inputsDF[['satisfaction', 'dissatisfaction', 'ff_se']].plot()\n",
    "plt.ylabel('State')\n",
    "plt.xlabel('Time step')\n",
    "plt.rcParams[\"figure.figsize\"] = (15,8)"
   ]
  },
  {
   "cell_type": "markdown",
   "metadata": {},
   "source": [
    "### preps and ssr's"
   ]
  },
  {
   "cell_type": "code",
   "execution_count": null,
   "metadata": {},
   "outputs": [],
   "source": [
    "inputsDF[['prep_like', 'ssr_pe_l', 'prep_share', 'ssr_pe_s', 'prep_comm', 'ssr_pe_c']].plot()\n",
    "plt.ylabel('State')\n",
    "plt.xlabel('Time step')\n",
    "plt.rcParams[\"figure.figsize\"] = (15,8)"
   ]
  },
  {
   "cell_type": "markdown",
   "metadata": {},
   "source": [
    "### Outputs"
   ]
  },
  {
   "cell_type": "code",
   "execution_count": null,
   "metadata": {},
   "outputs": [],
   "source": [
    "inputsDF[['like', 'share', 'comment']].plot()\n",
    "plt.ylabel('State')\n",
    "plt.xlabel('Time step')\n",
    "plt.rcParams[\"figure.figsize\"] = (15,8)"
   ]
  },
  {
   "cell_type": "markdown",
   "metadata": {},
   "source": [
    "### Expected reactions"
   ]
  },
  {
   "cell_type": "code",
   "execution_count": null,
   "metadata": {},
   "outputs": [],
   "source": [
    "reactions2[['share', 'comment', 'like']].plot()\n",
    "plt.ylabel('State')\n",
    "plt.xlabel('Time step')\n",
    "plt.rcParams[\"figure.figsize\"] = (15,8)"
   ]
  },
  {
   "cell_type": "code",
   "execution_count": null,
   "metadata": {},
   "outputs": [],
   "source": [
    "inputsDF.columns"
   ]
  },
  {
   "cell_type": "markdown",
   "metadata": {},
   "source": [
    "# Agent 3"
   ]
  },
  {
   "cell_type": "code",
   "execution_count": null,
   "metadata": {},
   "outputs": [],
   "source": [
    "inputsDF, parameters = model.run_message_sequence(messages3.values, a3_traits,parameters, 'nb3')"
   ]
  },
  {
   "cell_type": "code",
   "execution_count": null,
   "metadata": {},
   "outputs": [],
   "source": [
    "parameters"
   ]
  },
  {
   "cell_type": "markdown",
   "metadata": {},
   "source": [
    "## Inputs\n",
    "\n",
    "### Message Categories"
   ]
  },
  {
   "cell_type": "code",
   "execution_count": null,
   "metadata": {},
   "outputs": [],
   "source": [
    "inputsDF[['msg_cat_per', 'msg_cat_ent', 'msg_cat_new', 'msg_cat_edu', 'msg_cat_con']].plot()\n",
    "plt.ylabel('State')\n",
    "plt.xlabel('Time step')\n",
    "plt.rcParams[\"figure.figsize\"] = (15,8)"
   ]
  },
  {
   "cell_type": "markdown",
   "metadata": {},
   "source": [
    "### Message characteristics"
   ]
  },
  {
   "cell_type": "code",
   "execution_count": null,
   "metadata": {},
   "outputs": [],
   "source": [
    "inputsDF[['msg_rel', 'msg_qua', 'msg_sen', 'msg_sal', 'msg_med', 'msg_com', 'msg_que']].plot()\n",
    "plt.ylabel('State')\n",
    "plt.xlabel('Time step')\n",
    "plt.rcParams[\"figure.figsize\"] = (15,8)"
   ]
  },
  {
   "cell_type": "markdown",
   "metadata": {},
   "source": [
    "### Sensory states"
   ]
  },
  {
   "cell_type": "code",
   "execution_count": null,
   "metadata": {},
   "outputs": [],
   "source": [
    "inputsDF[['srs_cat_per', 'srs_cat_ent', 'srs_cat_new', 'srs_cat_edu', 'srs_cat_con']].plot()\n",
    "plt.ylabel('State')\n",
    "plt.xlabel('Time step')\n",
    "plt.rcParams[\"figure.figsize\"] = (15,8)"
   ]
  },
  {
   "cell_type": "markdown",
   "metadata": {},
   "source": [
    "### Arousal, attention"
   ]
  },
  {
   "cell_type": "code",
   "execution_count": null,
   "metadata": {},
   "outputs": [],
   "source": [
    "inputsDF[['arousal', 'attention_1', 'attention_2']].plot()\n",
    "plt.ylabel('State')\n",
    "plt.xlabel('Time step')\n",
    "plt.rcParams[\"figure.figsize\"] = (15,8)"
   ]
  },
  {
   "cell_type": "markdown",
   "metadata": {},
   "source": [
    "### FFs"
   ]
  },
  {
   "cell_type": "code",
   "execution_count": null,
   "metadata": {},
   "outputs": [],
   "source": [
    "inputsDF[['ff_ko', 'ff_ent', 'ff_is', 'ff_si', 'ff_se']].plot()\n",
    "plt.ylabel('State')\n",
    "plt.xlabel('Time step')\n",
    "plt.rcParams[\"figure.figsize\"] = (15,8)"
   ]
  },
  {
   "cell_type": "markdown",
   "metadata": {},
   "source": [
    "### Satisfaction, dissatisfaction"
   ]
  },
  {
   "cell_type": "code",
   "execution_count": null,
   "metadata": {},
   "outputs": [],
   "source": [
    "inputsDF[['satisfaction', 'dissatisfaction', 'ff_se']].plot()\n",
    "plt.ylabel('State')\n",
    "plt.xlabel('Time step')\n",
    "plt.rcParams[\"figure.figsize\"] = (15,8)"
   ]
  },
  {
   "cell_type": "markdown",
   "metadata": {},
   "source": [
    "### preps and ssr's"
   ]
  },
  {
   "cell_type": "code",
   "execution_count": null,
   "metadata": {},
   "outputs": [],
   "source": [
    "inputsDF[['prep_like', 'ssr_pe_l', 'prep_share', 'ssr_pe_s', 'prep_comm', 'ssr_pe_c']].plot()\n",
    "plt.ylabel('State')\n",
    "plt.xlabel('Time step')\n",
    "plt.rcParams[\"figure.figsize\"] = (15,8)"
   ]
  },
  {
   "cell_type": "markdown",
   "metadata": {},
   "source": [
    "### Outputs"
   ]
  },
  {
   "cell_type": "code",
   "execution_count": null,
   "metadata": {},
   "outputs": [],
   "source": [
    "inputsDF[['like', 'share', 'comment']].plot()\n",
    "plt.ylabel('State')\n",
    "plt.xlabel('Time step')\n",
    "plt.rcParams[\"figure.figsize\"] = (15,8)"
   ]
  },
  {
   "cell_type": "markdown",
   "metadata": {},
   "source": [
    "### Expected reactions"
   ]
  },
  {
   "cell_type": "code",
   "execution_count": null,
   "metadata": {},
   "outputs": [],
   "source": [
    "reactions3[['share', 'comment', 'like']].plot()\n",
    "plt.ylabel('State')\n",
    "plt.xlabel('Time step')\n",
    "plt.rcParams[\"figure.figsize\"] = (15,8)"
   ]
  },
  {
   "cell_type": "code",
   "execution_count": null,
   "metadata": {},
   "outputs": [],
   "source": [
    "inputsDF.columns"
   ]
  },
  {
   "cell_type": "code",
   "execution_count": null,
   "metadata": {},
   "outputs": [],
   "source": []
  }
 ],
 "metadata": {
  "kernelspec": {
   "display_name": "Python 3",
   "language": "python",
   "name": "python3"
  },
  "language_info": {
   "codemirror_mode": {
    "name": "ipython",
    "version": 3
   },
   "file_extension": ".py",
   "mimetype": "text/x-python",
   "name": "python",
   "nbconvert_exporter": "python",
   "pygments_lexer": "ipython3",
   "version": "3.6.4"
  }
 },
 "nbformat": 4,
 "nbformat_minor": 1
}
