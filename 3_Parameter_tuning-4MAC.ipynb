{
 "cells": [
  {
   "cell_type": "code",
   "execution_count": 1,
   "metadata": {
    "collapsed": false
   },
   "outputs": [
    {
     "name": "stderr",
     "output_type": "stream",
     "text": [
      "/Users/vu/anaconda/lib/python2.7/site-packages/matplotlib/font_manager.py:273: UserWarning: Matplotlib is building the font cache using fc-list. This may take a moment.\n",
      "  warnings.warn('Matplotlib is building the font cache using fc-list. This may take a moment.')\n"
     ]
    }
   ],
   "source": [
    "# Standard libraries\n",
    "import numpy as np\n",
    "import pandas as pd\n",
    "import matplotlib.pyplot as plt\n",
    "from random import random\n",
    "from pprint import pprint"
   ]
  },
  {
   "cell_type": "code",
   "execution_count": 2,
   "metadata": {
    "collapsed": false
   },
   "outputs": [],
   "source": [
    "# My libraries\n",
    "import sim_ann as sa\n",
    "import model"
   ]
  },
  {
   "cell_type": "code",
   "execution_count": 38,
   "metadata": {
    "collapsed": false
   },
   "outputs": [],
   "source": [
    "parameters = {u'cons_acc': [0.14, 2.7212466402920845],\n",
    " u'cons_content': [0.14, 0.27286867828052636],\n",
    " u'cons_eval': [0.14, 2.5713379056431385],\n",
    " u'cs_cons': [0.14, 1.842908428298583],\n",
    " u'cs_lib': [0.14, 0.8454041353656887],\n",
    " u'cs_speed': 0.00013243185209597144,\n",
    " u'es_a': [0.14, 2.3597705146770367],\n",
    " u'es_r': [0.5, 9.5],\n",
    " u'fc_cons': [0.44, 4.9983459812796476],\n",
    " u'fc_lib': [0.44, 4.5821515454655426],\n",
    " u'fs_change': [0.14, 1.4855119186714094],\n",
    " u'fs_h': [0.14, 2.689818685178916],\n",
    " u'fs_s': [0.14, 0.851035251516451],\n",
    " u'lib_acc': [0.14, 2.70600759473239],\n",
    " u'lib_content': [0.14, 3.5536213476681136],\n",
    " u'lib_eval': [0.14, 1.7080722305355573],\n",
    " u'mood': [0.14, 1.1902314231446396],\n",
    " u'mood_speed': 0.0013381006544168246,\n",
    " u'pp_cons': [0.14, 0.5975787696488855],\n",
    " u'pp_lib': [0.14, 1.222539634336583],\n",
    " u'pp_speed': 0.000530315626359816}"
   ]
  },
  {
   "cell_type": "code",
   "execution_count": 39,
   "metadata": {
    "collapsed": false
   },
   "outputs": [
    {
     "name": "stdout",
     "output_type": "stream",
     "text": [
      "20.7862143729\n",
      "{u'cons_acc': [0.14, 2.7212466402920845],\n",
      " u'cons_content': [0.14, 0.27286867828052636],\n",
      " u'cons_eval': [0.14, 2.5713379056431385],\n",
      " u'cs_cons': [0.14, 1.842908428298583],\n",
      " u'cs_lib': [0.14, 0.8454041353656887],\n",
      " u'cs_speed': 0.00013243185209597144,\n",
      " u'es_a': [0.14, 2.3597705146770367],\n",
      " u'es_r': [0.5, 9.5],\n",
      " u'fc_cons': [0.44, 4.998345981279647],\n",
      " u'fc_lib': [0.44, 4.582151545465543],\n",
      " u'fs_change': [0.14, 1.4855119186714094],\n",
      " u'fs_h': [0.14, 2.689818685178916],\n",
      " u'fs_s': [0.14, 0.851035251516451],\n",
      " u'lib_acc': [0.14, 2.70600759473239],\n",
      " u'lib_content': [0.14, 3.5536213476681136],\n",
      " u'lib_eval': [0.14, 1.7080722305355573],\n",
      " u'mood': [0.14, 1.1902314231446396],\n",
      " u'mood_speed': 0.0013381006544168246,\n",
      " u'pp_cons': [0.14, 0.5975787696488855],\n",
      " u'pp_lib': [0.14, 1.222539634336583],\n",
      " u'pp_speed': 0.000530315626359816}\n"
     ]
    }
   ],
   "source": [
    "old_cost, initial_parameters, df1, empdf1, df2, empdf2, df3, empdf3 = sa.get_error(parameters)\n",
    "print old_cost\n",
    "pprint(initial_parameters)"
   ]
  },
  {
   "cell_type": "code",
   "execution_count": 14,
   "metadata": {
    "collapsed": false
   },
   "outputs": [
    {
     "data": {
      "text/plain": [
       "15.944099542009898"
      ]
     },
     "execution_count": 14,
     "metadata": {},
     "output_type": "execute_result"
    }
   ],
   "source": []
  },
  {
   "cell_type": "code",
   "execution_count": null,
   "metadata": {
    "collapsed": true
   },
   "outputs": [],
   "source": []
  },
  {
   "cell_type": "code",
   "execution_count": null,
   "metadata": {
    "collapsed": true
   },
   "outputs": [],
   "source": []
  },
  {
   "cell_type": "code",
   "execution_count": null,
   "metadata": {
    "collapsed": true
   },
   "outputs": [],
   "source": []
  },
  {
   "cell_type": "code",
   "execution_count": null,
   "metadata": {
    "collapsed": true
   },
   "outputs": [],
   "source": []
  },
  {
   "cell_type": "code",
   "execution_count": null,
   "metadata": {
    "collapsed": false
   },
   "outputs": [],
   "source": [
    "# Reaload my libraries\n",
    "reload(sa)\n",
    "reload(model)"
   ]
  },
  {
   "cell_type": "code",
   "execution_count": 3,
   "metadata": {
    "collapsed": false
   },
   "outputs": [
    {
     "name": "stderr",
     "output_type": "stream",
     "text": [
      "model.py:121: FutureWarning: comparison to `None` will result in an elementwise object comparison in the future.\n",
      "  if message == None or len(message) != 7:\n"
     ]
    }
   ],
   "source": [
    "cost_hist = list([])\n",
    "parameters_hist = list([])\n",
    "\n",
    "# Actual cost\n",
    "old_cost, initial_parameters, df1, empdf1, df2, empdf2, df3, empdf3 = sa.get_error()\n",
    "cost_hist.append(old_cost)\n",
    "\n",
    "parameters_hist.append(initial_parameters)"
   ]
  },
  {
   "cell_type": "code",
   "execution_count": 4,
   "metadata": {
    "collapsed": false
   },
   "outputs": [
    {
     "data": {
      "text/plain": [
       "{u'cons_acc': [0.14, 2.7212466402920845],\n",
       " u'cons_content': [0.14, 0.27286867828052636],\n",
       " u'cons_eval': [0.14, 2.5713379056431385],\n",
       " u'cs_cons': [0.14, 1.842908428298583],\n",
       " u'cs_lib': [0.14, 0.8454041353656887],\n",
       " u'cs_speed': 0.00013243185209597144,\n",
       " u'es_a': [0.14, 2.3597705146770367],\n",
       " u'es_r': [0.14, 2.474145931311727],\n",
       " u'fc_cons': [0.14, 1.9983459812796476],\n",
       " u'fc_lib': [0.14, 2.5821515454655426],\n",
       " u'fs_change': [0.14, 1.4855119186714094],\n",
       " u'fs_h': [0.14, 2.689818685178916],\n",
       " u'fs_s': [0.14, 0.851035251516451],\n",
       " u'lib_acc': [0.14, 2.70600759473239],\n",
       " u'lib_content': [0.14, 3.5536213476681136],\n",
       " u'lib_eval': [0.14, 1.7080722305355573],\n",
       " u'mood': [0.14, 1.1902314231446396],\n",
       " u'mood_speed': 0.0013381006544168246,\n",
       " u'pp_cons': [0.14, 0.5975787696488855],\n",
       " u'pp_lib': [0.14, 1.222539634336583],\n",
       " u'pp_speed': 0.000530315626359816}"
      ]
     },
     "execution_count": 4,
     "metadata": {},
     "output_type": "execute_result"
    }
   ],
   "source": [
    "initial_parameters"
   ]
  },
  {
   "cell_type": "code",
   "execution_count": 5,
   "metadata": {
    "collapsed": false
   },
   "outputs": [],
   "source": [
    "T = 1.0\n",
    "T_min = 0.01\n",
    "# original = 0.9\n",
    "alpha = 0.9\n",
    "parameters = initial_parameters"
   ]
  },
  {
   "cell_type": "code",
   "execution_count": null,
   "metadata": {
    "collapsed": false,
    "scrolled": true
   },
   "outputs": [
    {
     "name": "stdout",
     "output_type": "stream",
     "text": [
      "Temp:  1.0\n",
      "{u'cons_acc': [0.13671897953833329, 2.7208246546506354],\n",
      " u'cons_content': [0.1547871739599107, 0.450833322077876],\n",
      " u'cons_eval': [0.1407041463683541, 2.5029301716919288],\n",
      " u'cs_cons': [0.11948118641396616, 1.812135131084455],\n",
      " u'cs_lib': [0.1605866581053684, 0.9862117737871554],\n",
      " u'cs_speed': 0.00015878151602931125,\n",
      " u'es_a': [0.1322462018723387, 2.165229028962027],\n",
      " u'es_r': [0.1303782389177412, 2.480206409752829],\n",
      " u'fc_cons': [0.12536057149299984, 2.192561958277496],\n",
      " u'fc_lib': [0.14818221425856495, 2.714992958760279],\n",
      " u'fs_change': [0.1462766396655515, 1.4277392745311923],\n",
      " u'fs_h': [0.1419224601981452, 2.9868320020502575],\n",
      " u'fs_s': [0.14158341957076304, 0.9295924406943131],\n",
      " u'lib_acc': [0.1463717384105897, 2.8782611555189193],\n",
      " u'lib_content': [0.14942441589365785, 3.508894166730155],\n",
      " u'lib_eval': [0.13561299934935817, 1.497708936420381],\n",
      " u'mood': [0.13560162905287668, 1.5286240829819513],\n",
      " u'mood_speed': 0.003361558002753607,\n",
      " u'pp_cons': [0.14457241286307002, 0.48106404568027206],\n",
      " u'pp_lib': [0.1370088372125926, 1.1992960886236232],\n",
      " u'pp_speed': 0.0005896892428586633}\n",
      "15.9729634389\n",
      "Temp:  0.9\n"
     ]
    }
   ],
   "source": [
    "while T > T_min:\n",
    "        print 'Temp: ', T\n",
    "        i = 1\n",
    "        # original = 100\n",
    "        while i <= 50:\n",
    "            \n",
    "            new_parameters = sa.neighbor(parameters.copy())\n",
    "            new_cost, new_parameters, df1, empdf1, df2, empdf2, df3, empdf3 = sa.get_error(new_parameters)\n",
    "            \n",
    "            if new_cost < old_cost:\n",
    "                parameters = new_parameters.copy()\n",
    "                parameters_hist.append(parameters.copy())\n",
    "                old_cost = new_cost\n",
    "                cost_hist.append(old_cost)\n",
    "            else:\n",
    "                ap = sa.acceptance_probability(old_cost, new_cost, T)\n",
    "                if ap > random():\n",
    "                    #print 'accepted!'\n",
    "                    parameters = new_parameters.copy()\n",
    "                    parameters_hist.append(parameters.copy())\n",
    "                    old_cost = new_cost\n",
    "                    cost_hist.append(old_cost)\n",
    "            i += 1\n",
    "        pprint(parameters_hist[-1])\n",
    "        print cost_hist[-1]\n",
    "        T = T*alpha"
   ]
  },
  {
   "cell_type": "code",
   "execution_count": null,
   "metadata": {
    "collapsed": false
   },
   "outputs": [],
   "source": [
    "#steepness values from 0.5 (for four arrows), 0.7 (for three arrows),  1 (for two arrows) to 2.5 (for 1 arrow)\n",
    "a = parameters_hist[-1]"
   ]
  },
  {
   "cell_type": "code",
   "execution_count": null,
   "metadata": {
    "collapsed": false
   },
   "outputs": [],
   "source": [
    "a"
   ]
  },
  {
   "cell_type": "code",
   "execution_count": null,
   "metadata": {
    "collapsed": false
   },
   "outputs": [],
   "source": [
    "new_cost, p, df1, empdf1, df2, empdf2, df3, empdf3 = sa.get_error(a)"
   ]
  },
  {
   "cell_type": "code",
   "execution_count": null,
   "metadata": {
    "collapsed": false
   },
   "outputs": [],
   "source": [
    "new_cost"
   ]
  },
  {
   "cell_type": "code",
   "execution_count": null,
   "metadata": {
    "collapsed": false
   },
   "outputs": [],
   "source": [
    "reload(sa)"
   ]
  },
  {
   "cell_type": "code",
   "execution_count": null,
   "metadata": {
    "collapsed": false
   },
   "outputs": [],
   "source": [
    "sa.plot_results(a, cost_hist, parameters_hist)"
   ]
  },
  {
   "cell_type": "code",
   "execution_count": null,
   "metadata": {
    "collapsed": false
   },
   "outputs": [],
   "source": [
    "dmood1 = ((df1['mood'] - empdf1['mood'])**2).sum()\n",
    "dmood1"
   ]
  },
  {
   "cell_type": "code",
   "execution_count": null,
   "metadata": {
    "collapsed": false
   },
   "outputs": [],
   "source": [
    "dmood2 = ((df2['mood'] - empdf2['mood'])**2).sum()\n",
    "dmood2"
   ]
  },
  {
   "cell_type": "code",
   "execution_count": null,
   "metadata": {
    "collapsed": false
   },
   "outputs": [],
   "source": [
    "dmood3 = ((df3['mood'] - empdf3['mood'])**2).sum()\n",
    "dmood3"
   ]
  },
  {
   "cell_type": "code",
   "execution_count": null,
   "metadata": {
    "collapsed": false
   },
   "outputs": [],
   "source": [
    "dmood = dmood1+dmood2+dmood3\n",
    "dmood"
   ]
  },
  {
   "cell_type": "code",
   "execution_count": null,
   "metadata": {
    "collapsed": false
   },
   "outputs": [],
   "source": [
    "dpc1 = ((df1['pp_cons'] - empdf1['pp_cons'])**2).sum()\n",
    "dpc1"
   ]
  },
  {
   "cell_type": "code",
   "execution_count": null,
   "metadata": {
    "collapsed": false
   },
   "outputs": [],
   "source": [
    "dpc2 = ((df2['pp_cons'] - empdf2['pp_cons'])**2).sum()\n",
    "dpc2"
   ]
  },
  {
   "cell_type": "code",
   "execution_count": null,
   "metadata": {
    "collapsed": false
   },
   "outputs": [],
   "source": [
    "dpc3 = ((df3['pp_cons'] - empdf3['pp_cons'])**2).sum()\n",
    "dpc3"
   ]
  },
  {
   "cell_type": "code",
   "execution_count": null,
   "metadata": {
    "collapsed": false
   },
   "outputs": [],
   "source": [
    "dpc = dpc1+dpc2+dpc3\n",
    "dpc"
   ]
  },
  {
   "cell_type": "code",
   "execution_count": null,
   "metadata": {
    "collapsed": false
   },
   "outputs": [],
   "source": [
    "dpl1 = ((df1['pp_lib'] - empdf1['pp_lib'])**2).sum()\n",
    "dpl1"
   ]
  },
  {
   "cell_type": "code",
   "execution_count": null,
   "metadata": {
    "collapsed": false
   },
   "outputs": [],
   "source": [
    "dpl2 = ((df2['pp_lib'] - empdf2['pp_lib'])**2).sum()\n",
    "dpl2"
   ]
  },
  {
   "cell_type": "code",
   "execution_count": null,
   "metadata": {
    "collapsed": false
   },
   "outputs": [],
   "source": [
    "dpl3 = ((df3['pp_lib'] - empdf3['pp_lib'])**2).sum()\n",
    "dpl3"
   ]
  },
  {
   "cell_type": "code",
   "execution_count": null,
   "metadata": {
    "collapsed": false
   },
   "outputs": [],
   "source": [
    "dpl = dpl1+dpl2+dpl3\n",
    "dpl"
   ]
  },
  {
   "cell_type": "code",
   "execution_count": null,
   "metadata": {
    "collapsed": false
   },
   "outputs": [],
   "source": [
    "dcc1 = ((df1['cs_cons'] - empdf1['cs_cons'])**2).sum()\n",
    "dcc1"
   ]
  },
  {
   "cell_type": "code",
   "execution_count": null,
   "metadata": {
    "collapsed": false
   },
   "outputs": [],
   "source": [
    "dcc2 = ((df2['cs_cons'] - empdf2['cs_cons'])**2).sum()\n",
    "dcc2"
   ]
  },
  {
   "cell_type": "code",
   "execution_count": null,
   "metadata": {
    "collapsed": false
   },
   "outputs": [],
   "source": [
    "dcc3 = ((df3['cs_cons'] - empdf3['cs_cons'])**2).sum()\n",
    "dcc3"
   ]
  },
  {
   "cell_type": "code",
   "execution_count": null,
   "metadata": {
    "collapsed": false
   },
   "outputs": [],
   "source": [
    "dcc=dcc1+dcc2+dcc3\n",
    "dcc"
   ]
  },
  {
   "cell_type": "code",
   "execution_count": null,
   "metadata": {
    "collapsed": false
   },
   "outputs": [],
   "source": [
    "desr1 = ((df1['es_r'] - empdf1['es_r'])**2).sum()\n",
    "desr1"
   ]
  },
  {
   "cell_type": "code",
   "execution_count": null,
   "metadata": {
    "collapsed": false
   },
   "outputs": [],
   "source": [
    "desr2 = ((df2['es_r'] - empdf2['es_r'])**2).sum()\n",
    "desr2"
   ]
  },
  {
   "cell_type": "code",
   "execution_count": null,
   "metadata": {
    "collapsed": false
   },
   "outputs": [],
   "source": [
    "desr3 = ((df3['es_r'] - empdf3['es_r'])**2).sum()\n",
    "desr3"
   ]
  },
  {
   "cell_type": "code",
   "execution_count": null,
   "metadata": {
    "collapsed": false
   },
   "outputs": [],
   "source": [
    "desr = desr3 + desr2 + desr1\n",
    "desr"
   ]
  },
  {
   "cell_type": "code",
   "execution_count": null,
   "metadata": {
    "collapsed": false
   },
   "outputs": [],
   "source": [
    "dcl1 = ((df1['cs_lib'] - empdf1['cs_lib'])**2).sum()\n",
    "dcl1"
   ]
  },
  {
   "cell_type": "code",
   "execution_count": null,
   "metadata": {
    "collapsed": false
   },
   "outputs": [],
   "source": [
    "dcl2 = ((df2['cs_lib'] - empdf2['cs_lib'])**2).sum()\n",
    "dcl2"
   ]
  },
  {
   "cell_type": "code",
   "execution_count": null,
   "metadata": {
    "collapsed": false
   },
   "outputs": [],
   "source": [
    "dcl3 = ((df3['cs_lib'] - empdf3['cs_lib'])**2).sum()\n",
    "dcl3"
   ]
  },
  {
   "cell_type": "code",
   "execution_count": null,
   "metadata": {
    "collapsed": false
   },
   "outputs": [],
   "source": [
    "dcl = dcl1+dcl2+dcl3\n",
    "dcl"
   ]
  },
  {
   "cell_type": "code",
   "execution_count": null,
   "metadata": {
    "collapsed": false
   },
   "outputs": [],
   "source": [
    "dmood + dpc + dpl + dcc + dcl+ desr"
   ]
  },
  {
   "cell_type": "code",
   "execution_count": null,
   "metadata": {
    "collapsed": false
   },
   "outputs": [],
   "source": [
    "df[['pp_cons', 'pp_lib', 'mood', 'cs_cons', 'cs_lib', 'fs_s']].plot(figsize=((14,6)))"
   ]
  },
  {
   "cell_type": "code",
   "execution_count": null,
   "metadata": {
    "collapsed": true
   },
   "outputs": [],
   "source": [
    "plt.savefig('output_test.png')"
   ]
  },
  {
   "cell_type": "code",
   "execution_count": null,
   "metadata": {
    "collapsed": false
   },
   "outputs": [],
   "source": [
    "plt.plot(cost_hist)"
   ]
  },
  {
   "cell_type": "code",
   "execution_count": null,
   "metadata": {
    "collapsed": true
   },
   "outputs": [],
   "source": [
    "plt.show()"
   ]
  },
  {
   "cell_type": "code",
   "execution_count": null,
   "metadata": {
    "collapsed": false
   },
   "outputs": [],
   "source": [
    "empdf.head()"
   ]
  },
  {
   "cell_type": "code",
   "execution_count": null,
   "metadata": {
    "collapsed": false
   },
   "outputs": [],
   "source": [
    "df[empdf.columns].head()"
   ]
  },
  {
   "cell_type": "code",
   "execution_count": null,
   "metadata": {
    "collapsed": true
   },
   "outputs": [],
   "source": []
  }
 ],
 "metadata": {
  "kernelspec": {
   "display_name": "Python [Root]",
   "language": "python",
   "name": "Python [Root]"
  },
  "language_info": {
   "codemirror_mode": {
    "name": "ipython",
    "version": 2
   },
   "file_extension": ".py",
   "mimetype": "text/x-python",
   "name": "python",
   "nbconvert_exporter": "python",
   "pygments_lexer": "ipython2",
   "version": "2.7.12"
  }
 },
 "nbformat": 4,
 "nbformat_minor": 0
}
