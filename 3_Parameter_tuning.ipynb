{
 "cells": [
  {
   "cell_type": "code",
   "execution_count": 5,
   "metadata": {},
   "outputs": [],
   "source": [
    "# Standard libraries\n",
    "import numpy as np\n",
    "import pandas as pd\n",
    "import matplotlib.pyplot as plt\n",
    "from random import random\n",
    "from pprint import pprint\n",
    "\n",
    "import time"
   ]
  },
  {
   "cell_type": "code",
   "execution_count": 2,
   "metadata": {},
   "outputs": [],
   "source": [
    "# My libraries\n",
    "import sim_ann as sa\n",
    "import model"
   ]
  },
  {
   "cell_type": "code",
   "execution_count": 6,
   "metadata": {},
   "outputs": [],
   "source": [
    "cost_hist = list([])\n",
    "parameters_hist = list([])\n",
    "\n",
    "# Actual cost\n",
    "t0 = time.time()\n",
    "old_cost, initial_parameters = sa.get_error()\n",
    "t1 = time.time()\n",
    "\n",
    "total = t1-t0\n",
    "\n",
    "cost_hist.append(old_cost)\n",
    "\n",
    "parameters_hist.append(initial_parameters)"
   ]
  },
  {
   "cell_type": "code",
   "execution_count": 7,
   "metadata": {},
   "outputs": [
    {
     "data": {
      "text/plain": [
       "5.51264214515686"
      ]
     },
     "execution_count": 7,
     "metadata": {},
     "output_type": "execute_result"
    }
   ],
   "source": [
    "total"
   ]
  },
  {
   "cell_type": "code",
   "execution_count": null,
   "metadata": {},
   "outputs": [],
   "source": [
    "print(initial_parameters)\n",
    "old_cost"
   ]
  },
  {
   "cell_type": "code",
   "execution_count": null,
   "metadata": {},
   "outputs": [],
   "source": [
    "T = 1.0\n",
    "T_min = 0.01\n",
    "# original = 0.9\n",
    "alpha = 0.9\n",
    "parameters = initial_parameters"
   ]
  },
  {
   "cell_type": "code",
   "execution_count": null,
   "metadata": {
    "scrolled": true
   },
   "outputs": [],
   "source": [
    "while T > T_min:\n",
    "        print('Temp: ', T)\n",
    "        i = 1\n",
    "        # original = 100\n",
    "        while i <= 70:\n",
    "            print(i)\n",
    "            new_parameters = sa.neighbor(parameters.copy())\n",
    "            \n",
    "            new_cost, new_parameters = sa.get_error(new_parameters)\n",
    "            \n",
    "            #pprint(new_parameters)\n",
    "            #print new_cost\n",
    "            \n",
    "            if new_cost < old_cost:\n",
    "                parameters = new_parameters.copy()\n",
    "                parameters_hist.append(parameters.copy())\n",
    "                old_cost = new_cost\n",
    "                cost_hist.append(old_cost)\n",
    "            else:\n",
    "                ap = sa.acceptance_probability(old_cost, new_cost, T)\n",
    "                if ap > random():\n",
    "                    #print 'accepted!'\n",
    "                    parameters = new_parameters.copy()\n",
    "                    parameters_hist.append(parameters.copy())\n",
    "                    old_cost = new_cost\n",
    "                    cost_hist.append(old_cost)\n",
    "            i += 1\n",
    "        pprint(parameters_hist[-1])\n",
    "        print(cost_hist[-1])\n",
    "        T = T*alpha"
   ]
  },
  {
   "cell_type": "code",
   "execution_count": null,
   "metadata": {},
   "outputs": [],
   "source": [
    "#steepness values from 0.5 (for four arrows), 0.7 (for three arrows),  1 (for two arrows) to 2.5 (for 1 arrow)\n",
    "a = parameters_hist[-1]"
   ]
  },
  {
   "cell_type": "code",
   "execution_count": null,
   "metadata": {},
   "outputs": [],
   "source": [
    "a"
   ]
  },
  {
   "cell_type": "code",
   "execution_count": null,
   "metadata": {},
   "outputs": [],
   "source": [
    "new_cost, p = sa.get_error(a)"
   ]
  },
  {
   "cell_type": "code",
   "execution_count": null,
   "metadata": {},
   "outputs": [],
   "source": [
    "new_cost"
   ]
  },
  {
   "cell_type": "code",
   "execution_count": null,
   "metadata": {},
   "outputs": [],
   "source": [
    "reload(sa)"
   ]
  },
  {
   "cell_type": "code",
   "execution_count": null,
   "metadata": {},
   "outputs": [],
   "source": [
    "sa.plot_results(a, cost_hist, parameters_hist)"
   ]
  },
  {
   "cell_type": "code",
   "execution_count": null,
   "metadata": {},
   "outputs": [],
   "source": [
    "dmood1 = ((df1['mood'] - empdf1['mood'])**2).sum()\n",
    "dmood1"
   ]
  },
  {
   "cell_type": "code",
   "execution_count": null,
   "metadata": {},
   "outputs": [],
   "source": [
    "dmood2 = ((df2['mood'] - empdf2['mood'])**2).sum()\n",
    "dmood2"
   ]
  },
  {
   "cell_type": "code",
   "execution_count": null,
   "metadata": {},
   "outputs": [],
   "source": [
    "dmood3 = ((df3['mood'] - empdf3['mood'])**2).sum()\n",
    "dmood3"
   ]
  },
  {
   "cell_type": "code",
   "execution_count": null,
   "metadata": {},
   "outputs": [],
   "source": [
    "dmood = dmood1+dmood2+dmood3\n",
    "dmood"
   ]
  },
  {
   "cell_type": "code",
   "execution_count": null,
   "metadata": {},
   "outputs": [],
   "source": [
    "desr1 = ((df1['fs_change'] - empdf1['fs_change'])**2).sum()\n",
    "desr1"
   ]
  },
  {
   "cell_type": "code",
   "execution_count": null,
   "metadata": {},
   "outputs": [],
   "source": [
    "desr2 = ((df2['fs_change'] - empdf2['fs_change'])**2).sum()\n",
    "desr2"
   ]
  },
  {
   "cell_type": "code",
   "execution_count": null,
   "metadata": {},
   "outputs": [],
   "source": [
    "desr3 = ((df3['fs_change'] - empdf3['fs_change'])**2).sum()\n",
    "desr3"
   ]
  },
  {
   "cell_type": "code",
   "execution_count": null,
   "metadata": {},
   "outputs": [],
   "source": [
    "desr = desr3 + desr2 + desr1\n",
    "desr"
   ]
  },
  {
   "cell_type": "code",
   "execution_count": null,
   "metadata": {},
   "outputs": [],
   "source": [
    "dpc1 = ((df1['pp_cons'] - empdf1['pp_cons'])**2).sum()\n",
    "dpc1"
   ]
  },
  {
   "cell_type": "code",
   "execution_count": null,
   "metadata": {},
   "outputs": [],
   "source": [
    "dpc2 = ((df2['pp_cons'] - empdf2['pp_cons'])**2).sum()\n",
    "dpc2"
   ]
  },
  {
   "cell_type": "code",
   "execution_count": null,
   "metadata": {},
   "outputs": [],
   "source": [
    "dpc3 = ((df3['pp_cons'] - empdf3['pp_cons'])**2).sum()\n",
    "dpc3"
   ]
  },
  {
   "cell_type": "code",
   "execution_count": null,
   "metadata": {},
   "outputs": [],
   "source": [
    "dpc = dpc1+dpc2+dpc3\n",
    "dpc*100"
   ]
  },
  {
   "cell_type": "code",
   "execution_count": null,
   "metadata": {},
   "outputs": [],
   "source": [
    "dpl1 = ((df1['pp_lib'] - empdf1['pp_lib'])**2).sum()\n",
    "dpl1"
   ]
  },
  {
   "cell_type": "code",
   "execution_count": null,
   "metadata": {},
   "outputs": [],
   "source": [
    "dpl2 = ((df2['pp_lib'] - empdf2['pp_lib'])**2).sum()\n",
    "dpl2"
   ]
  },
  {
   "cell_type": "code",
   "execution_count": null,
   "metadata": {},
   "outputs": [],
   "source": [
    "dpl3 = ((df3['pp_lib'] - empdf3['pp_lib'])**2).sum()\n",
    "dpl3"
   ]
  },
  {
   "cell_type": "code",
   "execution_count": null,
   "metadata": {},
   "outputs": [],
   "source": [
    "dpl = dpl1+dpl2+dpl3\n",
    "dpl*100"
   ]
  },
  {
   "cell_type": "code",
   "execution_count": null,
   "metadata": {},
   "outputs": [],
   "source": [
    "dcc1 = ((df1['cs_cons'] - empdf1['cs_cons'])**2).sum()\n",
    "dcc1"
   ]
  },
  {
   "cell_type": "code",
   "execution_count": null,
   "metadata": {},
   "outputs": [],
   "source": [
    "dcc2 = ((df2['cs_cons'] - empdf2['cs_cons'])**2).sum()\n",
    "dcc2"
   ]
  },
  {
   "cell_type": "code",
   "execution_count": null,
   "metadata": {},
   "outputs": [],
   "source": [
    "dcc3 = ((df3['cs_cons'] - empdf3['cs_cons'])**2).sum()\n",
    "dcc3"
   ]
  },
  {
   "cell_type": "code",
   "execution_count": null,
   "metadata": {},
   "outputs": [],
   "source": [
    "dcc=dcc1+dcc2+dcc3\n",
    "dcc*100"
   ]
  },
  {
   "cell_type": "code",
   "execution_count": null,
   "metadata": {},
   "outputs": [],
   "source": [
    "dcl1 = ((df1['cs_lib'] - empdf1['cs_lib'])**2).sum()\n",
    "dcl1"
   ]
  },
  {
   "cell_type": "code",
   "execution_count": null,
   "metadata": {},
   "outputs": [],
   "source": [
    "dcl2 = ((df2['cs_lib'] - empdf2['cs_lib'])**2).sum()\n",
    "dcl2"
   ]
  },
  {
   "cell_type": "code",
   "execution_count": null,
   "metadata": {},
   "outputs": [],
   "source": [
    "dcl3 = ((df3['cs_lib'] - empdf3['cs_lib'])**2).sum()\n",
    "dcl3"
   ]
  },
  {
   "cell_type": "code",
   "execution_count": null,
   "metadata": {},
   "outputs": [],
   "source": [
    "dcl = dcl1+dcl2+dcl3\n",
    "dcl"
   ]
  },
  {
   "cell_type": "code",
   "execution_count": null,
   "metadata": {},
   "outputs": [],
   "source": [
    "dmood + dpc*100 + dpl*100 + dcc*100 + dcl*100+ desr"
   ]
  },
  {
   "cell_type": "code",
   "execution_count": null,
   "metadata": {},
   "outputs": [],
   "source": [
    "df[['pp_cons', 'pp_lib', 'mood', 'cs_cons', 'cs_lib', 'fs_s']].plot(figsize=((14,6)))"
   ]
  },
  {
   "cell_type": "code",
   "execution_count": null,
   "metadata": {},
   "outputs": [],
   "source": [
    "plt.savefig('output_test.png')"
   ]
  },
  {
   "cell_type": "code",
   "execution_count": null,
   "metadata": {},
   "outputs": [],
   "source": [
    "plt.plot(cost_hist)"
   ]
  },
  {
   "cell_type": "code",
   "execution_count": null,
   "metadata": {},
   "outputs": [],
   "source": [
    "plt.show()"
   ]
  },
  {
   "cell_type": "code",
   "execution_count": null,
   "metadata": {},
   "outputs": [],
   "source": [
    "empdf.head()"
   ]
  },
  {
   "cell_type": "code",
   "execution_count": null,
   "metadata": {},
   "outputs": [],
   "source": [
    "df[empdf.columns].head()"
   ]
  },
  {
   "cell_type": "code",
   "execution_count": null,
   "metadata": {},
   "outputs": [],
   "source": []
  }
 ],
 "metadata": {
  "kernelspec": {
   "display_name": "Python 3",
   "language": "python",
   "name": "python3"
  },
  "language_info": {
   "codemirror_mode": {
    "name": "ipython",
    "version": 3
   },
   "file_extension": ".py",
   "mimetype": "text/x-python",
   "name": "python",
   "nbconvert_exporter": "python",
   "pygments_lexer": "ipython3",
   "version": "3.6.3"
  }
 },
 "nbformat": 4,
 "nbformat_minor": 1
}
